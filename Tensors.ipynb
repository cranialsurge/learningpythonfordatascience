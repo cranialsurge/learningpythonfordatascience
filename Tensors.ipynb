{
 "cells": [
  {
   "cell_type": "code",
   "execution_count": 1,
   "metadata": {},
   "outputs": [],
   "source": [
    "import numpy as np"
   ]
  },
  {
   "cell_type": "markdown",
   "metadata": {},
   "source": [
    "# Tensors\n",
    "\n",
    "A tensor is a generalization of vectors and matrices and is easily understood as a multidimensional\n",
    "array. It is a container of data. \n",
    "\n",
    "A vector is a one-dimensional or first order tensor and a matrix is a two-dimensional or second\n",
    "order tensor.\n",
    "\n",
    "Many of the operations that can be performed with scalars, vectors, and matrices can be\n",
    "reformulated to be performed with tensors. As a tool, tensors and tensor algebra is widely\n",
    "used in the  elds of physics and engineering. Some operations in machine learning such as the\n",
    "training and operation of deep learning models can be described in terms of tensors."
   ]
  },
  {
   "cell_type": "code",
   "execution_count": 4,
   "metadata": {},
   "outputs": [
    {
     "name": "stdout",
     "output_type": "stream",
     "text": [
      "(3, 3, 3)\n",
      "[[[ 1  2  3]\n",
      "  [ 4  5  6]\n",
      "  [ 7  8  9]]\n",
      "\n",
      " [[11 12 13]\n",
      "  [14 15 16]\n",
      "  [17 18 19]]\n",
      "\n",
      " [[21 22 23]\n",
      "  [24 25 26]\n",
      "  [27 28 29]]]\n"
     ]
    }
   ],
   "source": [
    "# Like vectors and matrices, tensors can be represented in Python using the N-dimensional array\n",
    "# (ndarray). A tensor can be defined in-line to the constructor of array() as a list of lists. The\n",
    "# example below defines a 3 x 3 x 3 tensor as a NumPy ndarray. Three dimensions is easier to\n",
    "# wrap your head around. Here, we first define rows, then a list of rows stacked as columns, then\n",
    "# a list of columns stacked as levels in a cube.\n",
    "\n",
    "T = np.array([\n",
    "    [[1,2,3], [4,5,6], [7,8,9]],\n",
    "    [[11,12,13], [14,15,16], [17,18,19]],\n",
    "    [[21,22,23], [24,25,26], [27,28,29]]\n",
    "])\n",
    "\n",
    "print(T.shape)\n",
    "print(T)"
   ]
  },
  {
   "cell_type": "markdown",
   "metadata": {},
   "source": [
    "## Tensor Arithmetic\n",
    "\n",
    "As with matrices, we can perform element-wise arithmetic between tensors."
   ]
  },
  {
   "cell_type": "markdown",
   "metadata": {},
   "source": [
    "### Tensor Addition\n",
    "\n",
    "The element-wise addition of two tensors with the same dimensions results in a new tensor with\n",
    "the same dimensions where each scalar value is the element-wise addition of the scalars in the\n",
    "parent tensors.\n",
    "\n",
    "### C = A + B"
   ]
  },
  {
   "cell_type": "code",
   "execution_count": 5,
   "metadata": {},
   "outputs": [
    {
     "name": "stdout",
     "output_type": "stream",
     "text": [
      "[[[ 2  4  6]\n",
      "  [ 8 10 12]\n",
      "  [14 16 18]]\n",
      "\n",
      " [[22 24 26]\n",
      "  [28 30 32]\n",
      "  [34 36 38]]\n",
      "\n",
      " [[42 44 46]\n",
      "  [48 50 52]\n",
      "  [54 56 58]]]\n"
     ]
    }
   ],
   "source": [
    "# tensor addition\n",
    "# define first tensor\n",
    "A = np.array([\n",
    "[[1,2,3], [4,5,6], [7,8,9]],\n",
    "[[11,12,13], [14,15,16], [17,18,19]],\n",
    "[[21,22,23], [24,25,26], [27,28,29]]])\n",
    "\n",
    "# define second tensor\n",
    "B = np.array([\n",
    "[[1,2,3], [4,5,6], [7,8,9]],\n",
    "[[11,12,13], [14,15,16], [17,18,19]],\n",
    "[[21,22,23], [24,25,26], [27,28,29]]])\n",
    "\n",
    "# add tensors\n",
    "C = A + B\n",
    "print(C)"
   ]
  },
  {
   "cell_type": "markdown",
   "metadata": {},
   "source": [
    "### Tensor Subtraction\n",
    "\n",
    "The element-wise subtraction of one tensor from another tensor with the same dimensions\n",
    "results in a new tensor with the same dimensions where each scalar value is the element-wise\n",
    "subtraction of the scalars in the parent tensors.\n",
    "\n",
    "### C = A - B"
   ]
  },
  {
   "cell_type": "code",
   "execution_count": 6,
   "metadata": {},
   "outputs": [
    {
     "name": "stdout",
     "output_type": "stream",
     "text": [
      "[[[0 0 0]\n",
      "  [0 0 0]\n",
      "  [0 0 0]]\n",
      "\n",
      " [[0 0 0]\n",
      "  [0 0 0]\n",
      "  [0 0 0]]\n",
      "\n",
      " [[0 0 0]\n",
      "  [0 0 0]\n",
      "  [0 0 0]]]\n"
     ]
    }
   ],
   "source": [
    "# tensor subtraction\n",
    "# define first tensor\n",
    "A = np.array([\n",
    "[[1,2,3], [4,5,6], [7,8,9]],\n",
    "[[11,12,13], [14,15,16], [17,18,19]],\n",
    "[[21,22,23], [24,25,26], [27,28,29]]])\n",
    "\n",
    "# define second tensor\n",
    "B = np.array([\n",
    "[[1,2,3], [4,5,6], [7,8,9]],\n",
    "[[11,12,13], [14,15,16], [17,18,19]],\n",
    "[[21,22,23], [24,25,26], [27,28,29]]])\n",
    "\n",
    "# subtract tensors\n",
    "C = A - B\n",
    "print(C)"
   ]
  },
  {
   "cell_type": "markdown",
   "metadata": {},
   "source": [
    "### Tensor Hadamard Product\n",
    "\n",
    "The element-wise multiplication of one tensor with another tensor with the same dimensions\n",
    "results in a new tensor with the same dimensions where each scalar value is the element-wise\n",
    "multiplication of the scalars in the parent tensors. As with matrices, the operation is referred to\n",
    "as the Hadamard Product to di erentiate it from tensor multiplication.\n",
    "\n",
    "### C = A o B"
   ]
  },
  {
   "cell_type": "code",
   "execution_count": 7,
   "metadata": {},
   "outputs": [
    {
     "name": "stdout",
     "output_type": "stream",
     "text": [
      "[[[  1   4   9]\n",
      "  [ 16  25  36]\n",
      "  [ 49  64  81]]\n",
      "\n",
      " [[121 144 169]\n",
      "  [196 225 256]\n",
      "  [289 324 361]]\n",
      "\n",
      " [[441 484 529]\n",
      "  [576 625 676]\n",
      "  [729 784 841]]]\n"
     ]
    }
   ],
   "source": [
    "# tensor Hadamard product\n",
    "# define first tensor\n",
    "A = np.array([\n",
    "[[1,2,3], [4,5,6], [7,8,9]],\n",
    "[[11,12,13], [14,15,16], [17,18,19]],\n",
    "[[21,22,23], [24,25,26], [27,28,29]]])\n",
    "\n",
    "# define second tensor\n",
    "B = np.array([\n",
    "[[1,2,3], [4,5,6], [7,8,9]],\n",
    "[[11,12,13], [14,15,16], [17,18,19]],\n",
    "[[21,22,23], [24,25,26], [27,28,29]]])\n",
    "\n",
    "# multiply tensors\n",
    "C = A * B\n",
    "print(C)"
   ]
  },
  {
   "cell_type": "markdown",
   "metadata": {},
   "source": [
    "### Tensor Division\n",
    "\n",
    "The element-wise division of one tensor with another tensor with the same dimensions results in\n",
    "a new tensor with the same dimensions where each scalar value is the element-wise division of\n",
    "the scalars in the parent tensors.\n",
    "\n",
    "### C = A / B"
   ]
  },
  {
   "cell_type": "code",
   "execution_count": 9,
   "metadata": {},
   "outputs": [
    {
     "name": "stdout",
     "output_type": "stream",
     "text": [
      "[[[1. 1. 1.]\n",
      "  [1. 1. 1.]\n",
      "  [1. 1. 1.]]\n",
      "\n",
      " [[1. 1. 1.]\n",
      "  [1. 1. 1.]\n",
      "  [1. 1. 1.]]\n",
      "\n",
      " [[1. 1. 1.]\n",
      "  [1. 1. 1.]\n",
      "  [1. 1. 1.]]]\n"
     ]
    }
   ],
   "source": [
    "# tensor division\n",
    "# define first tensor\n",
    "A = np.array([\n",
    "[[1,2,3], [4,5,6], [7,8,9]],\n",
    "[[11,12,13], [14,15,16], [17,18,19]],\n",
    "[[21,22,23], [24,25,26], [27,28,29]]])\n",
    "\n",
    "# define second tensor\n",
    "B = np.array([\n",
    "[[1,2,3], [4,5,6], [7,8,9]],\n",
    "[[11,12,13], [14,15,16], [17,18,19]],\n",
    "[[21,22,23], [24,25,26], [27,28,29]]])\n",
    "\n",
    "# divide tensors\n",
    "C = A / B\n",
    "print(C)"
   ]
  },
  {
   "cell_type": "markdown",
   "metadata": {},
   "source": [
    "### Tensor Product\n",
    "\n",
    "The tensor product operator is often denoted as a circle with a small x in the middle. Given a tensor A with q dimensions and tensor B with r dimensions, the\n",
    "product of these tensors will be a new tensor with the order of q + r or, said another way, q + r\n",
    "dimensions. The tensor product is not limited to tensors, but can also be performed on matrices\n",
    "and vectors, which can be a good place to practice in order to develop the intuition for higher\n",
    "dimensions."
   ]
  },
  {
   "cell_type": "code",
   "execution_count": 10,
   "metadata": {},
   "outputs": [
    {
     "name": "stdout",
     "output_type": "stream",
     "text": [
      "[[3 4]\n",
      " [6 8]]\n"
     ]
    }
   ],
   "source": [
    "# tensor product\n",
    "# define first vector\n",
    "A = np.array([1,2])\n",
    "\n",
    "# define second vector\n",
    "B = np.array([3,4])\n",
    "\n",
    "# calculate tensor product\n",
    "C = np.tensordot(A, B, axes=0)\n",
    "print(C)"
   ]
  }
 ],
 "metadata": {
  "interpreter": {
   "hash": "fe0a7f6fb3f431a420cca34e41bfe94fdedbcf5db439c4717241f57b7189db7b"
  },
  "kernelspec": {
   "display_name": "Python 3.9.11 ('mlsandbox')",
   "language": "python",
   "name": "python3"
  },
  "language_info": {
   "codemirror_mode": {
    "name": "ipython",
    "version": 3
   },
   "file_extension": ".py",
   "mimetype": "text/x-python",
   "name": "python",
   "nbconvert_exporter": "python",
   "pygments_lexer": "ipython3",
   "version": "3.9.11"
  },
  "orig_nbformat": 4
 },
 "nbformat": 4,
 "nbformat_minor": 2
}
