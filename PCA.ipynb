{
 "cells": [
  {
   "cell_type": "markdown",
   "metadata": {},
   "source": [
    "# Principal Component Analysis\n",
    "\n",
    "Principal Component Analysis, or PCA for short, is a method for reducing the dimensionality\n",
    "of data. It can be thought of as a projection method where data with m-columns (features) is\n",
    "projected into a subspace with m or fewer columns, whilst retaining the essence of the original\n",
    "data.\n",
    "\n",
    "## Steps involved \n",
    "\n",
    "- The first step is to calculate the mean values of each column.\n",
    "   - M = mean(A)\n",
    "\n",
    "- Next, we need to center the values in each column by subtracting the mean column value.\n",
    "   - C = A - M\n",
    "\n",
    "- The next step is to calculate the covariance matrix of the centered matrix C. Correlation\n",
    "is a normalized measure of the amount and direction (positive or negative) that two columns\n",
    "change together. Covariance is a generalized and unnormalized version of correlation across\n",
    "multiple columns. A covariance matrix is a calculation of covariance of a given matrix with\n",
    "covariance scores for every column with every other column, including itself.\n",
    "   - V = cov(C)\n",
    "\n",
    "- Finally, we calculate the eigendecomposition of the covariance matrix V . This results in a\n",
    "list of eigenvalues and a list of eigenvectors.\n",
    "   - values, vectors = eig(V )\n",
    "\n",
    "   - The eigenvectors represent the directions or components for the reduced subspace of B,\n",
    "whereas the eigenvalues represent the magnitudes for the directions. The eigenvectors can be\n",
    "sorted by the eigenvalues in descending order to provide a ranking of the components or axes of\n",
    "the new subspace for A. If all eigenvalues have a similar value, then we know that the existing\n",
    "representation may already be reasonably compressed or dense and that the projection may\n",
    "o er little. If there are eigenvalues close to zero, they represent components or axes of B that\n",
    "may be discarded. A total of m or less components must be selected to comprise the chosen\n",
    "subspace. Ideally, we would select k eigenvectors, called principal components, that have the k\n",
    "largest eigenvalues.\n",
    "   - B = select(values, vectors)"
   ]
  },
  {
   "cell_type": "code",
   "execution_count": 3,
   "metadata": {},
   "outputs": [],
   "source": [
    "import numpy as np"
   ]
  },
  {
   "cell_type": "code",
   "execution_count": 5,
   "metadata": {},
   "outputs": [
    {
     "name": "stdout",
     "output_type": "stream",
     "text": [
      "[[1 2]\n",
      " [3 4]\n",
      " [5 6]]\n",
      "[[ 0.70710678 -0.70710678]\n",
      " [ 0.70710678  0.70710678]]\n",
      "[8. 0.]\n",
      "[[-2.82842712  0.        ]\n",
      " [ 0.          0.        ]\n",
      " [ 2.82842712  0.        ]]\n"
     ]
    }
   ],
   "source": [
    "# There is no pca() function in NumPy, but we can easily calculate the Principal Component\n",
    "# Analysis step-by-step using NumPy functions.\n",
    "\n",
    "# define matrix\n",
    "A = np.array([\n",
    "    [1, 2],\n",
    "    [3, 4],\n",
    "    [5, 6]\n",
    "])\n",
    "print(A)\n",
    "# column means\n",
    "M = np.mean(A.T, axis=1)\n",
    "# center columns by subtracting column means\n",
    "C = A - M\n",
    "# calculate covariance matrix of centered matrix\n",
    "V = np.cov(C.T)\n",
    "# factorize covariance matrix\n",
    "values, vectors = np.linalg.eig(V)\n",
    "print(vectors)\n",
    "print(values)\n",
    "# project data\n",
    "P = vectors.T.dot(C.T)\n",
    "print(P.T)\n",
    "\n"
   ]
  },
  {
   "cell_type": "markdown",
   "metadata": {},
   "source": []
  }
 ],
 "metadata": {
  "interpreter": {
   "hash": "fe0a7f6fb3f431a420cca34e41bfe94fdedbcf5db439c4717241f57b7189db7b"
  },
  "kernelspec": {
   "display_name": "Python 3.9.11 ('mlsandbox')",
   "language": "python",
   "name": "python3"
  },
  "language_info": {
   "codemirror_mode": {
    "name": "ipython",
    "version": 3
   },
   "file_extension": ".py",
   "mimetype": "text/x-python",
   "name": "python",
   "nbconvert_exporter": "python",
   "pygments_lexer": "ipython3",
   "version": "3.9.11"
  },
  "orig_nbformat": 4
 },
 "nbformat": 4,
 "nbformat_minor": 2
}
