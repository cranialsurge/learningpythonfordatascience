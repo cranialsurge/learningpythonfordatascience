{
  "cells": [
    {
      "cell_type": "markdown",
      "metadata": {
        "colab_type": "text",
        "id": "view-in-github"
      },
      "source": [
        "<a href=\"https://colab.research.google.com/github/cranialsurge/learningpythonfordatascience/blob/main/Numpy.ipynb\" target=\"_parent\"><img src=\"https://colab.research.google.com/assets/colab-badge.svg\" alt=\"Open In Colab\"/></a>"
      ]
    },
    {
      "cell_type": "markdown",
      "metadata": {
        "id": "f_d1mKqDu250"
      },
      "source": [
        "# Arrays"
      ]
    },
    {
      "cell_type": "markdown",
      "metadata": {},
      "source": [
        "## Create an array"
      ]
    },
    {
      "cell_type": "code",
      "execution_count": 2,
      "metadata": {
        "id": "8CsN5z3Tu_KB"
      },
      "outputs": [],
      "source": [
        "import numpy as np"
      ]
    },
    {
      "cell_type": "code",
      "execution_count": 2,
      "metadata": {
        "colab": {
          "base_uri": "https://localhost:8080/"
        },
        "id": "VM26JvMouz6_",
        "outputId": "a0d6aef1-eed2-49a2-a280-7461bffe8635"
      },
      "outputs": [
        {
          "name": "stdout",
          "output_type": "stream",
          "text": [
            "[1. 2. 3.]\n",
            "(3,)\n",
            "float64\n"
          ]
        }
      ],
      "source": [
        "# create array\n",
        "l = [1.0, 2.0, 3.0]\n",
        "a = np.array(l)\n",
        "# display array\n",
        "print(a)\n",
        "# display array shape\n",
        "print(a.shape)\n",
        "# display array data type\n",
        "print(a.dtype)"
      ]
    },
    {
      "cell_type": "markdown",
      "metadata": {},
      "source": [
        "## Functions to create arrays"
      ]
    },
    {
      "cell_type": "code",
      "execution_count": 3,
      "metadata": {},
      "outputs": [
        {
          "name": "stdout",
          "output_type": "stream",
          "text": [
            "[[ 3.45126646e-31 -6.90253292e-31  1.72563323e-31]\n",
            " [-6.90253292e-31  1.50130091e-30 -4.65920972e-31]\n",
            " [ 1.72563323e-31 -4.65920972e-31  2.67473151e-31]]\n"
          ]
        }
      ],
      "source": [
        "# create empty array\n",
        "a = np.empty([3,3])\n",
        "print(a)"
      ]
    },
    {
      "cell_type": "code",
      "execution_count": 5,
      "metadata": {},
      "outputs": [
        {
          "name": "stdout",
          "output_type": "stream",
          "text": [
            "[[0. 0. 0. 0. 0.]\n",
            " [0. 0. 0. 0. 0.]\n",
            " [0. 0. 0. 0. 0.]]\n"
          ]
        }
      ],
      "source": [
        "# create zero array\n",
        "a = np.zeros([3,5])\n",
        "print(a)"
      ]
    },
    {
      "cell_type": "code",
      "execution_count": 6,
      "metadata": {},
      "outputs": [
        {
          "name": "stdout",
          "output_type": "stream",
          "text": [
            "[1. 1. 1. 1. 1.]\n"
          ]
        }
      ],
      "source": [
        "# create one array\n",
        "a = np.ones([5])\n",
        "print(a)"
      ]
    },
    {
      "cell_type": "markdown",
      "metadata": {},
      "source": [
        "## Combining arrays"
      ]
    },
    {
      "cell_type": "markdown",
      "metadata": {},
      "source": [
        "### Vertical stack(vstack)"
      ]
    },
    {
      "cell_type": "code",
      "execution_count": 7,
      "metadata": {},
      "outputs": [
        {
          "name": "stdout",
          "output_type": "stream",
          "text": [
            "[1 2 3]\n",
            "[4 5 6]\n",
            "[[1 2 3]\n",
            " [4 5 6]]\n",
            "(2, 3)\n"
          ]
        }
      ],
      "source": [
        "# create array with vstack\n",
        "# create first array\n",
        "a1 = np.array([1,2,3])\n",
        "print(a1)\n",
        "# create second array\n",
        "a2 = np.array([4,5,6])\n",
        "print(a2)\n",
        "# vertical stack\n",
        "a3 = np.vstack((a1, a2))\n",
        "print(a3)\n",
        "print(a3.shape)"
      ]
    },
    {
      "cell_type": "markdown",
      "metadata": {},
      "source": [
        "### Horizontal Stack(hstack)"
      ]
    },
    {
      "cell_type": "code",
      "execution_count": 8,
      "metadata": {},
      "outputs": [
        {
          "name": "stdout",
          "output_type": "stream",
          "text": [
            "[1 2 3]\n",
            "[4 5 6]\n",
            "[1 2 3 4 5 6]\n",
            "(6,)\n"
          ]
        }
      ],
      "source": [
        "# create array with hstack\n",
        "# create first array\n",
        "a1 = np.array([1,2,3])\n",
        "print(a1)\n",
        "# create second array\n",
        "a2 = np.array([4,5,6])\n",
        "print(a2)\n",
        "# create horizontal array\n",
        "a3 = np.hstack((a1, a2))\n",
        "print(a3)\n",
        "print(a3.shape)"
      ]
    },
    {
      "cell_type": "markdown",
      "metadata": {},
      "source": [
        "## From 1D list to array"
      ]
    },
    {
      "cell_type": "code",
      "execution_count": 5,
      "metadata": {},
      "outputs": [
        {
          "name": "stdout",
          "output_type": "stream",
          "text": [
            "<class 'list'>\n",
            "[11 22 33 44 55]\n",
            "<class 'numpy.ndarray'>\n"
          ]
        }
      ],
      "source": [
        "# create 1D array\n",
        "data = [11, 22, 33, 44, 55]\n",
        "print(type(data))\n",
        "# array of data\n",
        "data = np.array(data)\n",
        "print(data)\n",
        "print(type(data))"
      ]
    },
    {
      "cell_type": "code",
      "execution_count": 6,
      "metadata": {},
      "outputs": [
        {
          "name": "stdout",
          "output_type": "stream",
          "text": [
            "<class 'list'>\n",
            "[[11 22]\n",
            " [33 44]\n",
            " [55 66]]\n",
            "<class 'numpy.ndarray'>\n"
          ]
        }
      ],
      "source": [
        "# create 3D array\n",
        "# list of data\n",
        "data = [[11, 22],\n",
        "[33, 44],\n",
        "[55, 66]]\n",
        "print(type(data))\n",
        "# array of data\n",
        "data = np.array(data)\n",
        "print(data)\n",
        "print(type(data))"
      ]
    },
    {
      "cell_type": "markdown",
      "metadata": {},
      "source": [
        "## Array indexing"
      ]
    },
    {
      "cell_type": "code",
      "execution_count": 13,
      "metadata": {},
      "outputs": [
        {
          "name": "stdout",
          "output_type": "stream",
          "text": [
            "11\n",
            "55\n",
            "55\n",
            "22\n"
          ]
        }
      ],
      "source": [
        "# define array\n",
        "data = np.array([11, 22, 33, 44, 55])\n",
        "# index data\n",
        "print(data[0])\n",
        "print(data[4])\n",
        "# you can use negative indices to retrieve values offset from the end of the array. \n",
        "# for example, the index -1 refers to the last item in the array, -2 the second last item and so on.\n",
        "print(data[-1])\n",
        "print(data[-4])"
      ]
    },
    {
      "cell_type": "code",
      "execution_count": 18,
      "metadata": {},
      "outputs": [
        {
          "name": "stdout",
          "output_type": "stream",
          "text": [
            "11\n",
            "44\n",
            "[11 22]\n",
            "[55 66]\n"
          ]
        }
      ],
      "source": [
        "# index 2D array\n",
        "from numpy import array\n",
        "# define array\n",
        "data = array([\n",
        "[11, 22],\n",
        "[33, 44],\n",
        "[55, 66]])\n",
        "# index data\n",
        "print(data[0,0])\n",
        "print(data[1,1])\n",
        "# all items in the first row\n",
        "print(data[0,])\n",
        "# all items in the third row\n",
        "print(data[2,])"
      ]
    },
    {
      "cell_type": "markdown",
      "metadata": {},
      "source": [
        "## Slicing\n",
        "\n",
        "### Slicing is specified using the colon operator : with a from and to index before and after the column respectively.\n",
        "### The slice extends from the from index and ends one item before the to index."
      ]
    },
    {
      "cell_type": "code",
      "execution_count": 26,
      "metadata": {},
      "outputs": [
        {
          "name": "stdout",
          "output_type": "stream",
          "text": [
            "[11 22 33 44 55]\n",
            "[11]\n",
            "[44]\n"
          ]
        }
      ],
      "source": [
        "# slice a 1D array\n",
        "# define array\n",
        "data = np.array([11, 22, 33, 44, 55])\n",
        "# this prints all elements in the array\n",
        "print(data[:])\n",
        "# this prints the first item in the array\n",
        "print(data[0:1])\n",
        "# this prints the last 2 items in the array using -ve indices\n",
        "print(data[-2:-1])"
      ]
    },
    {
      "cell_type": "markdown",
      "metadata": {},
      "source": [
        "## Split input and output features\n",
        "\n",
        "It is common to split your loaded data into input variables (X) and the output variable (y). We\n",
        "can do this by slicing all rows and all columns up to, but before the last column, then separately\n",
        "indexing the last column. For the input features, we can select all rows and all columns except\n",
        "the last one by specifying : for in the rows index, and :-1 in the columns index.\n",
        "\n",
        "### X = [:, :-1]\n",
        "\n",
        "For the output column, we can select all rows again using : and index just the last column\n",
        "by specifying the -1 index.\n",
        "\n",
        "### y = [:, -1]"
      ]
    },
    {
      "cell_type": "code",
      "execution_count": 27,
      "metadata": {},
      "outputs": [
        {
          "name": "stdout",
          "output_type": "stream",
          "text": [
            "[[11 22]\n",
            " [44 55]\n",
            " [77 88]]\n",
            "[33 66 99]\n"
          ]
        }
      ],
      "source": [
        "# split input and output data\n",
        "# define array\n",
        "data = array([\n",
        "[11, 22, 33],\n",
        "[44, 55, 66],\n",
        "[77, 88, 99]])\n",
        "# separate data\n",
        "X, y = data[:, :-1], data[:, -1]\n",
        "print(X)\n",
        "print(y)"
      ]
    },
    {
      "cell_type": "markdown",
      "metadata": {},
      "source": [
        "## Split train and test rows\n",
        "\n",
        "It is common to split a loaded dataset into separate train and test sets. This is a splitting of\n",
        "rows where some portion will be used to train the model and the remaining portion will be used\n",
        "to estimate the skill of the trained model. This would involve slicing all columns by specifying :\n",
        "in the second dimension index. The training dataset would be all rows from the beginning to\n",
        "the split point.\n",
        "\n",
        "### train = data[:split, :]"
      ]
    },
    {
      "cell_type": "code",
      "execution_count": 28,
      "metadata": {},
      "outputs": [
        {
          "name": "stdout",
          "output_type": "stream",
          "text": [
            "[[11 22 33]\n",
            " [44 55 66]]\n",
            "[[77 88 99]]\n"
          ]
        }
      ],
      "source": [
        "# split train and test data\n",
        "# define array\n",
        "data = array([\n",
        "[11, 22, 33],\n",
        "[44, 55, 66],\n",
        "[77, 88, 99]])\n",
        "# separate data\n",
        "split = 2\n",
        "train,test = data[:split,:],data[split:,:]\n",
        "print(train)\n",
        "print(test)"
      ]
    },
    {
      "cell_type": "markdown",
      "metadata": {},
      "source": [
        "## Array Reshaping"
      ]
    },
    {
      "cell_type": "markdown",
      "metadata": {},
      "source": [
        "### Data Shape"
      ]
    },
    {
      "cell_type": "code",
      "execution_count": 33,
      "metadata": {},
      "outputs": [
        {
          "name": "stdout",
          "output_type": "stream",
          "text": [
            "(5,)\n",
            "(3, 2)\n",
            "Rows: 3\n",
            "Cols: 2\n"
          ]
        }
      ],
      "source": [
        "# define array\n",
        "data = array([11, 22, 33, 44, 55])\n",
        "print(data.shape)\n",
        "\n",
        "# shape of a 2D array\n",
        "data = array([\n",
        "    [11, 22],\n",
        "    [33, 44],\n",
        "    [55, 66]\n",
        "])\n",
        "print(data.shape)\n",
        "\n",
        "# The elements of the .shape tuple can be accessed just like an array, with the 0th index for\n",
        "# the number of rows and the 1st index for the number of columns.\n",
        "print('Rows:', data.shape[0])\n",
        "print('Cols:', data.shape[1])"
      ]
    },
    {
      "cell_type": "markdown",
      "metadata": {},
      "source": [
        "## Reshape 1D to 2D Array\n",
        "\n",
        "It is common to need to reshape a one-dimensional array into a two-dimensional array with\n",
        "one column and multiple rows. NumPy provides the reshape() function on the NumPy array\n",
        "object that can be used to reshape the data. The reshape() function takes a single argument\n",
        "that specifies the new shape of the array. In the case of reshaping a one-dimensional array into\n",
        "a two-dimensional array with one column, the tuple would be the shape of the array as the first\n",
        "dimension (data.shape[0]) and 1 for the second dimension.\n",
        "\n",
        "### data = data.reshape((data.shape[0], 1))"
      ]
    },
    {
      "cell_type": "code",
      "execution_count": 36,
      "metadata": {},
      "outputs": [
        {
          "name": "stdout",
          "output_type": "stream",
          "text": [
            "(5,)\n",
            "Original shape [11 22 33 44 55]\n",
            "(5, 1)\n",
            "Reshaped form [[11]\n",
            " [22]\n",
            " [33]\n",
            " [44]\n",
            " [55]]\n"
          ]
        }
      ],
      "source": [
        "# define array\n",
        "data = array([11, 22, 33, 44, 55])\n",
        "print(data.shape)\n",
        "print('Original shape', data)\n",
        "#reshape\n",
        "data = data.reshape((data.shape[0], 1))\n",
        "print(data.shape)\n",
        "print('Reshaped form', data)"
      ]
    },
    {
      "cell_type": "markdown",
      "metadata": {},
      "source": [
        "## Reshape 2D to 3D Array\n",
        "\n",
        "It is common to need to reshape two-dimensional data where each row represents a sequence\n",
        "into a three-dimensional array for algorithms that expect multiple samples of one or more time\n",
        "steps and one or more features. A good example is the LSTM recurrent neural network model\n",
        "in the Keras deep learning library. The reshape function can be used directly, specifying the\n",
        "new dimensionality. This is clear with an example where each sequence has multiple time steps\n",
        "with one observation (feature) at each time step. We can use the sizes in the shape attribute on\n",
        "the array to specify the number of samples (rows) and columns (time steps) and  x the number\n",
        "of features at 1.\n",
        "\n",
        "### data.reshape((data.shape[0], data.shape[1], 1))"
      ]
    },
    {
      "cell_type": "code",
      "execution_count": 40,
      "metadata": {},
      "outputs": [
        {
          "name": "stdout",
          "output_type": "stream",
          "text": [
            "Original shape:  (3, 2)\n",
            "Original form:  [[11 22]\n",
            " [33 44]\n",
            " [55 66]]\n",
            "Reshaped shape:  (3, 2, 1)\n",
            "Reshaped form:  [[[11]\n",
            "  [22]]\n",
            "\n",
            " [[33]\n",
            "  [44]]\n",
            "\n",
            " [[55]\n",
            "  [66]]]\n"
          ]
        }
      ],
      "source": [
        "# array of data\n",
        "data = array([\n",
        "    [11, 22],\n",
        "    [33, 44],\n",
        "    [55, 66]\n",
        "    ])\n",
        "print('Original shape: ', data.shape)\n",
        "print('Original form: ', data)\n",
        "\n",
        "# reshape\n",
        "data = data.reshape((data.shape[0], data.shape[1], 1))\n",
        "print('Reshaped shape: ', data.shape)\n",
        "print('Reshaped form: ', data)"
      ]
    },
    {
      "cell_type": "markdown",
      "metadata": {},
      "source": [
        "## Array Broadcasting\n",
        "\n",
        "Arrays with different sizes cannot be added, subtracted, or generally be used in arithmetic. A\n",
        "way to overcome this is to duplicate the smaller array so that it has the dimensionality and\n",
        "size as the larger array. This is called array broadcasting and is available in NumPy when\n",
        "performing array arithmetic, which can greatly reduce and simplify your code.\n",
        "\n",
        "### Limitation with Array Arithmetic\n",
        "\n",
        "You can perform arithmetic directly on NumPy arrays, such as addition and subtraction. For\n",
        "example, two arrays can be added together to create a new array where the values at each\n",
        "index are added together. For example, an array a can be de ned as [1; 2; 3] and array b can be\n",
        "de ned as [1; 2; 3] and adding together will result in a new array with the values [2; 4; 6].\n",
        "\n",
        "a = [1, 2, 3]\n",
        "\n",
        "b = [1, 2, 3]\n",
        "\n",
        "c = a + b\n",
        "\n",
        "c = [1 + 1, 2 + 2, 3 + 3]\n",
        "\n",
        "Strictly, arithmetic may only be performed on arrays that have the same dimensions and\n",
        "dimensions with the same size. This means that a one-dimensional array with the length of\n",
        "10 can only perform arithmetic with another one-dimensional array with the length 10. This\n",
        "limitation on array arithmetic is quite limiting indeed. Thankfully, NumPy provides a built-in\n",
        "workaround to allow arithmetic between arrays with di ering sizes."
      ]
    }
  ],
  "metadata": {
    "colab": {
      "authorship_tag": "ABX9TyOaysKKHsklNIEv+jF8m971",
      "collapsed_sections": [],
      "include_colab_link": true,
      "name": "Numpy.ipynb",
      "provenance": []
    },
    "kernelspec": {
      "display_name": "Python 3",
      "name": "python3"
    },
    "language_info": {
      "codemirror_mode": {
        "name": "ipython",
        "version": 3
      },
      "file_extension": ".py",
      "mimetype": "text/x-python",
      "name": "python",
      "nbconvert_exporter": "python",
      "pygments_lexer": "ipython3",
      "version": "3.9.11"
    }
  },
  "nbformat": 4,
  "nbformat_minor": 0
}
