{
  "cells": [
    {
      "cell_type": "markdown",
      "metadata": {
        "colab_type": "text",
        "id": "view-in-github"
      },
      "source": [
        "<a href=\"https://colab.research.google.com/github/cranialsurge/learningpythonfordatascience/blob/main/Numpy.ipynb\" target=\"_parent\"><img src=\"https://colab.research.google.com/assets/colab-badge.svg\" alt=\"Open In Colab\"/></a>"
      ]
    },
    {
      "cell_type": "markdown",
      "metadata": {
        "id": "f_d1mKqDu250"
      },
      "source": [
        "# Arrays"
      ]
    },
    {
      "cell_type": "markdown",
      "metadata": {},
      "source": [
        "## Create an array"
      ]
    },
    {
      "cell_type": "code",
      "execution_count": 2,
      "metadata": {
        "id": "8CsN5z3Tu_KB"
      },
      "outputs": [],
      "source": [
        "import numpy as np"
      ]
    },
    {
      "cell_type": "code",
      "execution_count": 2,
      "metadata": {
        "colab": {
          "base_uri": "https://localhost:8080/"
        },
        "id": "VM26JvMouz6_",
        "outputId": "a0d6aef1-eed2-49a2-a280-7461bffe8635"
      },
      "outputs": [
        {
          "name": "stdout",
          "output_type": "stream",
          "text": [
            "[1. 2. 3.]\n",
            "(3,)\n",
            "float64\n"
          ]
        }
      ],
      "source": [
        "# create array\n",
        "l = [1.0, 2.0, 3.0]\n",
        "a = np.array(l)\n",
        "# display array\n",
        "print(a)\n",
        "# display array shape\n",
        "print(a.shape)\n",
        "# display array data type\n",
        "print(a.dtype)"
      ]
    },
    {
      "cell_type": "markdown",
      "metadata": {},
      "source": [
        "## Functions to create arrays"
      ]
    },
    {
      "cell_type": "code",
      "execution_count": 3,
      "metadata": {},
      "outputs": [
        {
          "name": "stdout",
          "output_type": "stream",
          "text": [
            "[[ 3.45126646e-31 -6.90253292e-31  1.72563323e-31]\n",
            " [-6.90253292e-31  1.50130091e-30 -4.65920972e-31]\n",
            " [ 1.72563323e-31 -4.65920972e-31  2.67473151e-31]]\n"
          ]
        }
      ],
      "source": [
        "# create empty array\n",
        "a = np.empty([3,3])\n",
        "print(a)"
      ]
    },
    {
      "cell_type": "code",
      "execution_count": 5,
      "metadata": {},
      "outputs": [
        {
          "name": "stdout",
          "output_type": "stream",
          "text": [
            "[[0. 0. 0. 0. 0.]\n",
            " [0. 0. 0. 0. 0.]\n",
            " [0. 0. 0. 0. 0.]]\n"
          ]
        }
      ],
      "source": [
        "# create zero array\n",
        "a = np.zeros([3,5])\n",
        "print(a)"
      ]
    },
    {
      "cell_type": "code",
      "execution_count": 6,
      "metadata": {},
      "outputs": [
        {
          "name": "stdout",
          "output_type": "stream",
          "text": [
            "[1. 1. 1. 1. 1.]\n"
          ]
        }
      ],
      "source": [
        "# create one array\n",
        "a = np.ones([5])\n",
        "print(a)"
      ]
    },
    {
      "cell_type": "markdown",
      "metadata": {},
      "source": [
        "## Combining arrays"
      ]
    },
    {
      "cell_type": "markdown",
      "metadata": {},
      "source": [
        "### Vertical stack(vstack)"
      ]
    },
    {
      "cell_type": "code",
      "execution_count": 7,
      "metadata": {},
      "outputs": [
        {
          "name": "stdout",
          "output_type": "stream",
          "text": [
            "[1 2 3]\n",
            "[4 5 6]\n",
            "[[1 2 3]\n",
            " [4 5 6]]\n",
            "(2, 3)\n"
          ]
        }
      ],
      "source": [
        "# create array with vstack\n",
        "# create first array\n",
        "a1 = np.array([1,2,3])\n",
        "print(a1)\n",
        "# create second array\n",
        "a2 = np.array([4,5,6])\n",
        "print(a2)\n",
        "# vertical stack\n",
        "a3 = np.vstack((a1, a2))\n",
        "print(a3)\n",
        "print(a3.shape)"
      ]
    },
    {
      "cell_type": "markdown",
      "metadata": {},
      "source": [
        "### Horizontal Stack(hstack)"
      ]
    },
    {
      "cell_type": "code",
      "execution_count": 8,
      "metadata": {},
      "outputs": [
        {
          "name": "stdout",
          "output_type": "stream",
          "text": [
            "[1 2 3]\n",
            "[4 5 6]\n",
            "[1 2 3 4 5 6]\n",
            "(6,)\n"
          ]
        }
      ],
      "source": [
        "# create array with hstack\n",
        "# create first array\n",
        "a1 = np.array([1,2,3])\n",
        "print(a1)\n",
        "# create second array\n",
        "a2 = np.array([4,5,6])\n",
        "print(a2)\n",
        "# create horizontal array\n",
        "a3 = np.hstack((a1, a2))\n",
        "print(a3)\n",
        "print(a3.shape)"
      ]
    },
    {
      "cell_type": "markdown",
      "metadata": {},
      "source": [
        "## From 1D list to array"
      ]
    },
    {
      "cell_type": "code",
      "execution_count": 5,
      "metadata": {},
      "outputs": [
        {
          "name": "stdout",
          "output_type": "stream",
          "text": [
            "<class 'list'>\n",
            "[11 22 33 44 55]\n",
            "<class 'numpy.ndarray'>\n"
          ]
        }
      ],
      "source": [
        "# create 1D array\n",
        "data = [11, 22, 33, 44, 55]\n",
        "print(type(data))\n",
        "# array of data\n",
        "data = np.array(data)\n",
        "print(data)\n",
        "print(type(data))"
      ]
    },
    {
      "cell_type": "code",
      "execution_count": 6,
      "metadata": {},
      "outputs": [
        {
          "name": "stdout",
          "output_type": "stream",
          "text": [
            "<class 'list'>\n",
            "[[11 22]\n",
            " [33 44]\n",
            " [55 66]]\n",
            "<class 'numpy.ndarray'>\n"
          ]
        }
      ],
      "source": [
        "# create 3D array\n",
        "# list of data\n",
        "data = [[11, 22],\n",
        "[33, 44],\n",
        "[55, 66]]\n",
        "print(type(data))\n",
        "# array of data\n",
        "data = np.array(data)\n",
        "print(data)\n",
        "print(type(data))"
      ]
    },
    {
      "cell_type": "markdown",
      "metadata": {},
      "source": [
        "## Array indexing"
      ]
    },
    {
      "cell_type": "code",
      "execution_count": 13,
      "metadata": {},
      "outputs": [
        {
          "name": "stdout",
          "output_type": "stream",
          "text": [
            "11\n",
            "55\n",
            "55\n",
            "22\n"
          ]
        }
      ],
      "source": [
        "# define array\n",
        "data = np.array([11, 22, 33, 44, 55])\n",
        "# index data\n",
        "print(data[0])\n",
        "print(data[4])\n",
        "# you can use negative indices to retrieve values offset from the end of the array. \n",
        "# for example, the index -1 refers to the last item in the array, -2 the second last item and so on.\n",
        "print(data[-1])\n",
        "print(data[-4])"
      ]
    },
    {
      "cell_type": "code",
      "execution_count": 18,
      "metadata": {},
      "outputs": [
        {
          "name": "stdout",
          "output_type": "stream",
          "text": [
            "11\n",
            "44\n",
            "[11 22]\n",
            "[55 66]\n"
          ]
        }
      ],
      "source": [
        "# index 2D array\n",
        "from numpy import array\n",
        "# define array\n",
        "data = array([\n",
        "[11, 22],\n",
        "[33, 44],\n",
        "[55, 66]])\n",
        "# index data\n",
        "print(data[0,0])\n",
        "print(data[1,1])\n",
        "# all items in the first row\n",
        "print(data[0,])\n",
        "# all items in the third row\n",
        "print(data[2,])"
      ]
    },
    {
      "cell_type": "markdown",
      "metadata": {},
      "source": [
        "## Slicing\n",
        "\n",
        "### Slicing is specified using the colon operator : with a from and to index before and after the column respectively.\n",
        "### The slice extends from the from index and ends one item before the to index."
      ]
    },
    {
      "cell_type": "code",
      "execution_count": 26,
      "metadata": {},
      "outputs": [
        {
          "name": "stdout",
          "output_type": "stream",
          "text": [
            "[11 22 33 44 55]\n",
            "[11]\n",
            "[44]\n"
          ]
        }
      ],
      "source": [
        "# slice a 1D array\n",
        "# define array\n",
        "data = np.array([11, 22, 33, 44, 55])\n",
        "# this prints all elements in the array\n",
        "print(data[:])\n",
        "# this prints the first item in the array\n",
        "print(data[0:1])\n",
        "# this prints the last 2 items in the array using -ve indices\n",
        "print(data[-2:-1])"
      ]
    },
    {
      "cell_type": "markdown",
      "metadata": {},
      "source": [
        "## Split input and output features\n",
        "\n",
        "It is common to split your loaded data into input variables (X) and the output variable (y). We\n",
        "can do this by slicing all rows and all columns up to, but before the last column, then separately\n",
        "indexing the last column. For the input features, we can select all rows and all columns except\n",
        "the last one by specifying : for in the rows index, and :-1 in the columns index.\n",
        "\n",
        "### X = [:, :-1]\n",
        "\n",
        "For the output column, we can select all rows again using : and index just the last column\n",
        "by specifying the -1 index.\n",
        "\n",
        "### y = [:, -1]"
      ]
    },
    {
      "cell_type": "code",
      "execution_count": 27,
      "metadata": {},
      "outputs": [
        {
          "name": "stdout",
          "output_type": "stream",
          "text": [
            "[[11 22]\n",
            " [44 55]\n",
            " [77 88]]\n",
            "[33 66 99]\n"
          ]
        }
      ],
      "source": [
        "# split input and output data\n",
        "# define array\n",
        "data = array([\n",
        "[11, 22, 33],\n",
        "[44, 55, 66],\n",
        "[77, 88, 99]])\n",
        "# separate data\n",
        "X, y = data[:, :-1], data[:, -1]\n",
        "print(X)\n",
        "print(y)"
      ]
    },
    {
      "cell_type": "markdown",
      "metadata": {},
      "source": [
        "## Split train and test rows\n",
        "\n",
        "It is common to split a loaded dataset into separate train and test sets. This is a splitting of\n",
        "rows where some portion will be used to train the model and the remaining portion will be used\n",
        "to estimate the skill of the trained model. This would involve slicing all columns by specifying :\n",
        "in the second dimension index. The training dataset would be all rows from the beginning to\n",
        "the split point.\n",
        "\n",
        "### train = data[:split, :]"
      ]
    },
    {
      "cell_type": "code",
      "execution_count": 28,
      "metadata": {},
      "outputs": [
        {
          "name": "stdout",
          "output_type": "stream",
          "text": [
            "[[11 22 33]\n",
            " [44 55 66]]\n",
            "[[77 88 99]]\n"
          ]
        }
      ],
      "source": [
        "# split train and test data\n",
        "# define array\n",
        "data = array([\n",
        "[11, 22, 33],\n",
        "[44, 55, 66],\n",
        "[77, 88, 99]])\n",
        "# separate data\n",
        "split = 2\n",
        "train,test = data[:split,:],data[split:,:]\n",
        "print(train)\n",
        "print(test)"
      ]
    }
  ],
  "metadata": {
    "colab": {
      "authorship_tag": "ABX9TyOaysKKHsklNIEv+jF8m971",
      "collapsed_sections": [],
      "include_colab_link": true,
      "name": "Numpy.ipynb",
      "provenance": []
    },
    "kernelspec": {
      "display_name": "Python 3",
      "name": "python3"
    },
    "language_info": {
      "codemirror_mode": {
        "name": "ipython",
        "version": 3
      },
      "file_extension": ".py",
      "mimetype": "text/x-python",
      "name": "python",
      "nbconvert_exporter": "python",
      "pygments_lexer": "ipython3",
      "version": "3.9.11"
    }
  },
  "nbformat": 4,
  "nbformat_minor": 0
}
