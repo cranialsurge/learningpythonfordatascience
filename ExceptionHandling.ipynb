{
 "cells": [
  {
   "cell_type": "code",
   "execution_count": 27,
   "metadata": {},
   "outputs": [],
   "source": [
    "# import required libraries\n",
    "import traceback\n",
    "import sys\n",
    "import logging"
   ]
  },
  {
   "cell_type": "code",
   "execution_count": 29,
   "metadata": {},
   "outputs": [
    {
     "name": "stderr",
     "output_type": "stream",
     "text": [
      "ERROR:root:Exception occurred\n",
      "Traceback (most recent call last):\n",
      "  File \"C:\\Users\\sudeepu\\AppData\\Local\\Temp\\ipykernel_1956\\125881901.py\", line 9, in <cell line: 8>\n",
      "    value = a / b\n",
      "ZeroDivisionError: division by zero\n"
     ]
    },
    {
     "name": "stdout",
     "output_type": "stream",
     "text": [
      "end of program\n"
     ]
    }
   ],
   "source": [
    "from traceback import format_exception\n",
    "\n",
    "\n",
    "a = 4\n",
    "b = 0\n",
    "\n",
    "# exception handling\n",
    "try:\n",
    "\tvalue = a / b\n",
    "\n",
    "except Exception as e:\n",
    "\t# printing stack trace\n",
    "\t# traceback.print_exception(*sys.exc_info())\n",
    "\tlogging.error(\"Exception occurred\", exc_info=True)\n",
    "\n",
    "# out of try-except\n",
    "# this statement is to show\n",
    "# that program continues\n",
    "# normally after an exception is handled\n",
    "print(\"end of program\")"
   ]
  }
 ],
 "metadata": {
  "kernelspec": {
   "display_name": "Python 3.10.6 ('mlsandbox')",
   "language": "python",
   "name": "python3"
  },
  "language_info": {
   "codemirror_mode": {
    "name": "ipython",
    "version": 3
   },
   "file_extension": ".py",
   "mimetype": "text/x-python",
   "name": "python",
   "nbconvert_exporter": "python",
   "pygments_lexer": "ipython3",
   "version": "3.10.6"
  },
  "orig_nbformat": 4,
  "vscode": {
   "interpreter": {
    "hash": "28f6bd0518620ffeac1f188b80bf35c70879ba9465121f9346d19bb01c9fd363"
   }
  }
 },
 "nbformat": 4,
 "nbformat_minor": 2
}
