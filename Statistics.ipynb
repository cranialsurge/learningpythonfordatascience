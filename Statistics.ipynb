{
 "cells": [
  {
   "cell_type": "code",
   "execution_count": 1,
   "metadata": {},
   "outputs": [],
   "source": [
    "import numpy as np"
   ]
  },
  {
   "cell_type": "markdown",
   "metadata": {},
   "source": [
    "# Statistics"
   ]
  },
  {
   "cell_type": "markdown",
   "metadata": {},
   "source": [
    "## Mean"
   ]
  },
  {
   "cell_type": "code",
   "execution_count": 2,
   "metadata": {},
   "outputs": [
    {
     "name": "stdout",
     "output_type": "stream",
     "text": [
      "[1 2 3 4 5 6]\n",
      "3.5\n"
     ]
    }
   ],
   "source": [
    "# vector mean\n",
    "# define vector\n",
    "v = np.array([1, 2, 3, 4, 5, 6])\n",
    "print(v)\n",
    "\n",
    "# calculate mean\n",
    "result = np.mean(v)\n",
    "print(result)"
   ]
  },
  {
   "cell_type": "markdown",
   "metadata": {},
   "source": [
    "The mean function can calculate the row or column means of a matrix by specifying the\n",
    "axis argument and the value 0 or 1 respectively. The example below de nes a 2   6 matrix and\n",
    "calculates both column and row means."
   ]
  },
  {
   "cell_type": "code",
   "execution_count": 4,
   "metadata": {},
   "outputs": [
    {
     "name": "stdout",
     "output_type": "stream",
     "text": [
      "[[1 2 3 4 5 6]\n",
      " [1 2 3 4 5 6]]\n",
      "[1. 2. 3. 4. 5. 6.]\n",
      "[3.5 3.5]\n"
     ]
    }
   ],
   "source": [
    "# matrix means\n",
    "# define matrix\n",
    "M = np.array([\n",
    "    [1,2,3,4,5,6],\n",
    "    [1,2,3,4,5,6]\n",
    "])\n",
    "print(M)\n",
    "\n",
    "# column means\n",
    "col_mean = np.mean(M, axis=0)\n",
    "print(col_mean)\n",
    "\n",
    "# row means\n",
    "row_mean = np.mean(M, axis=1)\n",
    "print(row_mean)\n"
   ]
  },
  {
   "cell_type": "markdown",
   "metadata": {},
   "source": [
    "## Variance\n",
    "\n",
    "In probability, the variance of some random variable X is a measure of how much values in the\n",
    "distribution vary on average with respect to the mean. The variance is denoted as the function\n",
    "V ar() on the variable.\n",
    "\n",
    "### V ar[X]\n",
    "\n",
    "Variance is calculated as the average squared difference of each value in the distribution\n",
    "from the expected value. Stated another way, it is the expected squared difference from the\n",
    "expected value.\n",
    "\n",
    "### V ar[X] = E[(X - E[X])^2]\n",
    "\n",
    "Assuming the expected value of the variable has been calculated (E[X]), the variance of the\n",
    "random variable can be calculated as the sum of the squared difference of each example from\n",
    "the expected value multiplied by the probability of that value."
   ]
  },
  {
   "cell_type": "code",
   "execution_count": 7,
   "metadata": {},
   "outputs": [
    {
     "name": "stdout",
     "output_type": "stream",
     "text": [
      "[1 2 3 4 5 6]\n",
      "3.5\n"
     ]
    }
   ],
   "source": [
    "# vector variance\n",
    "# define vector\n",
    "v = np.array([1, 2, 3, 4, 5, 6])\n",
    "print(v)\n",
    "\n",
    "# calculate variance\n",
    "result = np.var(v, ddof=1)\n",
    "print(result)"
   ]
  },
  {
   "cell_type": "code",
   "execution_count": 9,
   "metadata": {},
   "outputs": [
    {
     "name": "stdout",
     "output_type": "stream",
     "text": [
      "[[1 2 3 4 5 6]\n",
      " [1 2 3 4 5 6]]\n",
      "[0. 0. 0. 0. 0. 0.]\n",
      "[3.5 3.5]\n"
     ]
    }
   ],
   "source": [
    "# The var function can calculate the row or column variances of a matrix by specifying the\n",
    "# axis argument and the value 1 or 0 respectively, the same as the mean function above. The\n",
    "# example below de nes a 2 x 6 matrix and calculates both column and row sample variances.\n",
    "\n",
    "# define matrix\n",
    "M = np.array([\n",
    "    [1,2,3,4,5,6],\n",
    "    [1,2,3,4,5,6]\n",
    "])\n",
    "print(M)\n",
    "\n",
    "# column variances\n",
    "col_var = np.var(M, ddof=1, axis=0)\n",
    "print(col_var)\n",
    "\n",
    "# row variances\n",
    "row_var = np.var(M, ddof=1, axis=1)\n",
    "print(row_var)"
   ]
  },
  {
   "cell_type": "markdown",
   "metadata": {},
   "source": [
    "## Standard Deviation\n",
    "\n",
    "The standard deviation is calculated as the square root of the variance and is denoted as\n",
    "lowercase s. "
   ]
  },
  {
   "cell_type": "code",
   "execution_count": 12,
   "metadata": {},
   "outputs": [
    {
     "name": "stdout",
     "output_type": "stream",
     "text": [
      "[[1 2 3 4 5 6]\n",
      " [1 2 3 4 5 6]]\n",
      "[0. 0. 0. 0. 0. 0.]\n",
      "[1.87082869 1.87082869]\n"
     ]
    }
   ],
   "source": [
    "# matrix standard deviation\n",
    "# define matrix\n",
    "M = np.array([\n",
    "    [1,2,3,4,5,6],\n",
    "    [1,2,3,4,5,6]\n",
    "])\n",
    "print(M)\n",
    "\n",
    "# column standard deviations\n",
    "col_std = np.std(M, ddof=1, axis=0)\n",
    "print(col_std)\n",
    "\n",
    "# column standard deviations\n",
    "row_std = np.std(M, ddof=1, axis=1)\n",
    "print(row_std)"
   ]
  },
  {
   "cell_type": "markdown",
   "metadata": {},
   "source": [
    "## Covariance and Correlation\n",
    "\n",
    "In probability, covariance is the measure of the joint probability for two random variables. It\n",
    "describes how the two variables change together. It is denoted as the function cov(X; Y ), where\n",
    "X and Y are the two random variables being considered.\n",
    "\n",
    "### cov(X, Y )\n",
    "\n",
    "The sign of the covariance can be interpreted as whether the two variables change together\n",
    "(positive) or change in opposite directions (negative). A covariance value of zero indicates that both variables are completely\n",
    "independent."
   ]
  },
  {
   "cell_type": "code",
   "execution_count": 19,
   "metadata": {},
   "outputs": [
    {
     "name": "stdout",
     "output_type": "stream",
     "text": [
      "[1 2 3 4 5 6 7 8 9]\n",
      "[9 8 7 6 5 4 3 2 1]\n",
      "-7.5\n"
     ]
    }
   ],
   "source": [
    "# The example below defines two vectors of equal length with one increasing and one decreasing.\n",
    "# We would expect the covariance between these variables to be negative.\n",
    "\n",
    "# define first vector\n",
    "x = np.array([1,2,3,4,5,6,7,8,9])\n",
    "print(x)\n",
    "\n",
    "# define second covariance\n",
    "y = np.array([9,8,7,6,5,4,3,2,1])\n",
    "print(y)\n",
    "\n",
    "# calculate covariance matrix\n",
    "Sigma = np.cov(x, y)\n",
    "\n",
    "# We access just the covariance for the two variables as the [0, 1] element of the square covariance matrix returned.\n",
    "print(Sigma[0, 1])\n",
    "\n"
   ]
  },
  {
   "cell_type": "markdown",
   "metadata": {},
   "source": [
    "The covariance can be normalized to a score between -1 and 1 to make the magnitude\n",
    "interpretable by dividing it by the standard deviation of X and Y . The result is called the\n",
    "correlation of the variables, also called the Pearson's correlation coe cient, named for the\n",
    "developer of the method."
   ]
  },
  {
   "cell_type": "code",
   "execution_count": 17,
   "metadata": {},
   "outputs": [
    {
     "name": "stdout",
     "output_type": "stream",
     "text": [
      "[1 2 3 4 5 6 7 8 9]\n",
      "[9 8 7 6 5 4 3 2 1]\n",
      "-1.0\n"
     ]
    }
   ],
   "source": [
    "# define first vector\n",
    "x = np.array([1,2,3,4,5,6,7,8,9])\n",
    "print(x)\n",
    "\n",
    "# define second vector\n",
    "y = np.array([9,8,7,6,5,4,3,2,1])\n",
    "print(y)\n",
    "\n",
    "# calculate correlation\n",
    "corr = np.corrcoef(x,y)[0,1]\n",
    "print(corr)"
   ]
  },
  {
   "cell_type": "markdown",
   "metadata": {},
   "source": [
    "## Covariance Matrix\n",
    "\n",
    "The covariance matrix is a square and symmetric matrix that describes the covariance between\n",
    "two or more random variables. The diagonal of the covariance matrix are the variances of each\n",
    "of the random variables, as such it is often called the variance-covariance matrix. A covariance\n",
    "matrix is a generalization of the covariance of two variables and captures the way in which all\n",
    "variables in the dataset may change together. \n",
    "\n",
    "A covariance matrix is a calculation of covariance of a given matrix with\n",
    "covariance scores for every column with every other column, including itself.\n",
    "\n",
    "The covariance matrix provides a useful tool for \n",
    "separating the structured relationships in a matrix of random variables. This can be used to \n",
    "decorrelate variables or applied as a transform to other variables. It is a key element used in \n",
    "the Principal Component Analysis data reduction method"
   ]
  },
  {
   "cell_type": "code",
   "execution_count": 20,
   "metadata": {},
   "outputs": [
    {
     "name": "stdout",
     "output_type": "stream",
     "text": [
      "[[ 1  5  8]\n",
      " [ 3  5 11]\n",
      " [ 2  4  9]\n",
      " [ 3  6 10]\n",
      " [ 1  5 10]]\n",
      "[[1.   0.25 0.75]\n",
      " [0.25 0.5  0.25]\n",
      " [0.75 0.25 1.3 ]]\n"
     ]
    }
   ],
   "source": [
    "# define matrix of observations\n",
    "X = np.array([\n",
    "    [1, 5, 8],\n",
    "    [3, 5, 11],\n",
    "    [2, 4, 9],\n",
    "    [3, 6, 10],\n",
    "    [1, 5, 10]\n",
    "])\n",
    "print(X)\n",
    "# calculate covariance matrix\n",
    "Sigma = np.cov(X.T)\n",
    "print(Sigma)"
   ]
  }
 ],
 "metadata": {
  "interpreter": {
   "hash": "fe0a7f6fb3f431a420cca34e41bfe94fdedbcf5db439c4717241f57b7189db7b"
  },
  "kernelspec": {
   "display_name": "Python 3.9.11 ('mlsandbox')",
   "language": "python",
   "name": "python3"
  },
  "language_info": {
   "codemirror_mode": {
    "name": "ipython",
    "version": 3
   },
   "file_extension": ".py",
   "mimetype": "text/x-python",
   "name": "python",
   "nbconvert_exporter": "python",
   "pygments_lexer": "ipython3",
   "version": "3.9.11"
  },
  "orig_nbformat": 4
 },
 "nbformat": 4,
 "nbformat_minor": 2
}
