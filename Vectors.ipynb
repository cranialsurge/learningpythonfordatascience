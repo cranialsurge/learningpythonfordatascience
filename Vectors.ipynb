{
 "cells": [
  {
   "cell_type": "markdown",
   "metadata": {},
   "source": [
    "# Vectors"
   ]
  },
  {
   "cell_type": "markdown",
   "metadata": {},
   "source": [
    "## Defining a vector"
   ]
  },
  {
   "cell_type": "code",
   "execution_count": 1,
   "metadata": {},
   "outputs": [],
   "source": [
    "import numpy as np"
   ]
  },
  {
   "cell_type": "code",
   "execution_count": 2,
   "metadata": {},
   "outputs": [
    {
     "name": "stdout",
     "output_type": "stream",
     "text": [
      "[1 2 3]\n"
     ]
    }
   ],
   "source": [
    "# create a vector\n",
    "v = np.array([1, 2, 3])\n",
    "print(v)"
   ]
  },
  {
   "cell_type": "markdown",
   "metadata": {},
   "source": [
    "## Vector arithmetic\n",
    "\n",
    "Operations are performed element-wise between two vectors of equal length to result in a new vector with the\n",
    "same length."
   ]
  },
  {
   "cell_type": "markdown",
   "metadata": {},
   "source": [
    "### Vector Addition\n",
    "\n",
    "Two vectors of equal length can be added together to create a new third vector.\n",
    "\n",
    "c = a + b\n",
    "\n",
    "The new vector has the same length as the other two vectors. Each element of the new\n",
    "vector is calculated as the addition of the elements of the other vectors at the same index; for\n",
    "example:\n",
    "\n",
    "c = (a1 + b1; a2 + b2; a3 + b3)"
   ]
  },
  {
   "cell_type": "code",
   "execution_count": 4,
   "metadata": {},
   "outputs": [
    {
     "name": "stdout",
     "output_type": "stream",
     "text": [
      "[1 2 3]\n",
      "[1 2 3]\n",
      "[2 4 6]\n"
     ]
    }
   ],
   "source": [
    "#  define first vector\n",
    "a = np.array([1, 2, 3])\n",
    "print(a)\n",
    "\n",
    "# define second vector\n",
    "b = np.array([1, 2, 3])\n",
    "print(b)\n",
    "\n",
    "# add vectors\n",
    "c = a + b\n",
    "print(c)"
   ]
  },
  {
   "cell_type": "markdown",
   "metadata": {},
   "source": [
    "### Vector Subtraction\n",
    "\n",
    "One vector can be subtracted from another vector of equal length to create a new third vector.\n",
    "\n",
    "c = a - b\n",
    "\n",
    "As with addition, the new vector has the same length as the parent vectors and each element\n",
    "of the new vector is calculated as the subtraction of the elements at the same indices.\n",
    "\n",
    "c = (a1 - b1; a2 - b2; a3 - b3)"
   ]
  },
  {
   "cell_type": "code",
   "execution_count": 6,
   "metadata": {},
   "outputs": [
    {
     "name": "stdout",
     "output_type": "stream",
     "text": [
      "[1 2 3]\n",
      "[0.5 0.5 0.5]\n",
      "[0.5 1.5 2.5]\n"
     ]
    }
   ],
   "source": [
    "# define first vector\n",
    "a = np.array([1, 2, 3])\n",
    "print(a)\n",
    "\n",
    "# define second vector\n",
    "b = np.array([0.5, 0.5, 0.5])\n",
    "print(b)\n",
    "\n",
    "# subtract vectors\n",
    "c = a - b\n",
    "print(c)"
   ]
  },
  {
   "cell_type": "markdown",
   "metadata": {},
   "source": [
    "### Vector Multiplication\n",
    "\n",
    "Two vectors of equal length can be multiplied together.\n",
    "\n",
    "c = a x b\n",
    "\n",
    "As with addition and subtraction, this operation is performed element-wise to result in a\n",
    "new vector of the same length.\n",
    "\n",
    "c = (a1 x b1; a2 x b2; a3 x b3)\n",
    "\n",
    "or\n",
    "\n",
    "c = (a1b1, a2b2, a3b3)"
   ]
  },
  {
   "cell_type": "code",
   "execution_count": 7,
   "metadata": {},
   "outputs": [
    {
     "name": "stdout",
     "output_type": "stream",
     "text": [
      "[1 2 3]\n",
      "[1 2 3]\n",
      "[1 4 9]\n"
     ]
    }
   ],
   "source": [
    "# define first vector\n",
    "a = np.array([1, 2, 3])\n",
    "print(a)\n",
    "\n",
    "# define second vector\n",
    "b = np.array([1, 2, 3])\n",
    "print(b)\n",
    "\n",
    "# multiple vectors\n",
    "c = a * b\n",
    "print(c)"
   ]
  },
  {
   "cell_type": "markdown",
   "metadata": {},
   "source": [
    "### Vector Division\n",
    "\n",
    "Two vectors of equal length can be divided.\n",
    "\n",
    "c = a/b\n",
    "\n",
    "As with other arithmetic operations, this operation is performed element-wise to result in a\n",
    "new vector of the same length.\n",
    "\n",
    "c = (a1/b1, a2/b2, a3/b3)"
   ]
  },
  {
   "cell_type": "code",
   "execution_count": 8,
   "metadata": {},
   "outputs": [
    {
     "name": "stdout",
     "output_type": "stream",
     "text": [
      "[1 2 3]\n",
      "[1 2 3]\n",
      "[1. 1. 1.]\n"
     ]
    }
   ],
   "source": [
    "# define first vector\n",
    "a = np.array([1, 2, 3])\n",
    "print(a)\n",
    "\n",
    "# define second vector\n",
    "b = np.array([1, 2, 3])\n",
    "print(b)\n",
    "\n",
    "# divide vectors\n",
    "c = a / b\n",
    "print(c)"
   ]
  },
  {
   "cell_type": "markdown",
   "metadata": {},
   "source": [
    "### Vector Dot Product\n",
    "\n",
    "We can calculate the sum of the multiplied elements of two vectors of the same length to give a\n",
    "scalar. This is called the dot product, named because of the dot operator used when describing\n",
    "the operation.\n",
    "\n",
    "The dot product is a key tool for calculating vector projections, vector decompositions,\n",
    "and determining orthogonality. The name dot product comes from the symbol\n",
    "used to denote it.\n",
    "\n",
    "c = a . b\n",
    "\n",
    "\n",
    "The operation can be used in machine learning to calculate the weighted sum of a vector.\n",
    "The dot product is calculated as follows:\n",
    "\n",
    "c = (a1 x b1 + a2 x b2 + a3 x b3)\n",
    "\n",
    "or\n",
    "\n",
    "c = (a1b1 + a2b2 + a3b3)\n",
    "\n",
    "We can calculate the dot product between two vectors in Python using the dot() function\n",
    "on a NumPy array."
   ]
  },
  {
   "cell_type": "code",
   "execution_count": 9,
   "metadata": {},
   "outputs": [
    {
     "name": "stdout",
     "output_type": "stream",
     "text": [
      "[1 2 3]\n",
      "[1 2 3]\n",
      "14\n"
     ]
    }
   ],
   "source": [
    "# define first vector\n",
    "a = np.array([1, 2, 3])\n",
    "print(a)\n",
    "\n",
    "# define second vector\n",
    "b = np.array([1, 2, 3])\n",
    "print(b)\n",
    "\n",
    "# multiple vectors\n",
    "c = a.dot(b)\n",
    "print(c)"
   ]
  },
  {
   "cell_type": "markdown",
   "metadata": {},
   "source": [
    "### Vector-Scalar Multiplication\n",
    "\n",
    "A vector can be multiplied by a scalar, in effect scaling the magnitude of the vector. To keep\n",
    "notation simple, we will use lowercase s to represent the scalar value.\n",
    "\n",
    "c = s x v\n",
    "\n",
    "or\n",
    "\n",
    "c = sv\n",
    "\n",
    "The multiplication is performed on each element of the vector to result in a new scaled\n",
    "vector of the same length.\n",
    "\n",
    "c = (s x v1, s x v2, s x v3)"
   ]
  },
  {
   "cell_type": "code",
   "execution_count": 10,
   "metadata": {},
   "outputs": [
    {
     "name": "stdout",
     "output_type": "stream",
     "text": [
      "[1 2 3]\n",
      "0.5\n",
      "[0.5 1.  1.5]\n"
     ]
    }
   ],
   "source": [
    "# define vector\n",
    "a = np.array([1, 2, 3])\n",
    "print(a)\n",
    "\n",
    "# define scalar\n",
    "s = 0.5\n",
    "print(s)\n",
    "\n",
    "c = s * a\n",
    "print(c)"
   ]
  }
 ],
 "metadata": {
  "interpreter": {
   "hash": "fe0a7f6fb3f431a420cca34e41bfe94fdedbcf5db439c4717241f57b7189db7b"
  },
  "kernelspec": {
   "display_name": "Python 3.9.11 ('mlsandbox')",
   "language": "python",
   "name": "python3"
  },
  "language_info": {
   "codemirror_mode": {
    "name": "ipython",
    "version": 3
   },
   "file_extension": ".py",
   "mimetype": "text/x-python",
   "name": "python",
   "nbconvert_exporter": "python",
   "pygments_lexer": "ipython3",
   "version": "3.9.11"
  },
  "orig_nbformat": 4
 },
 "nbformat": 4,
 "nbformat_minor": 2
}
