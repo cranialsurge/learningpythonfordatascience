{
 "cells": [
  {
   "cell_type": "markdown",
   "metadata": {},
   "source": [
    "# Matrices"
   ]
  },
  {
   "cell_type": "markdown",
   "metadata": {},
   "source": [
    "## Define a matrix"
   ]
  },
  {
   "cell_type": "code",
   "execution_count": 1,
   "metadata": {},
   "outputs": [],
   "source": [
    "import numpy as np"
   ]
  },
  {
   "cell_type": "code",
   "execution_count": 4,
   "metadata": {},
   "outputs": [
    {
     "name": "stdout",
     "output_type": "stream",
     "text": [
      "[[1 2 3]\n",
      " [4 5 6]]\n"
     ]
    }
   ],
   "source": [
    "# create matrix\n",
    "A = np.array([[1, 2, 3], [4, 5, 6]])\n",
    "print(A)"
   ]
  },
  {
   "cell_type": "markdown",
   "metadata": {},
   "source": [
    "## Matrix Arithmetic\n",
    "\n",
    "Operations are performed element-wise between two matrices of equal size to result in a new matrix with the\n",
    "same size."
   ]
  },
  {
   "cell_type": "markdown",
   "metadata": {},
   "source": [
    "### Matrix Addition\n",
    "\n",
    "Two matrices with the same dimensions can be added together to create a new third matrix.\n",
    "\n",
    "C = A + B\n",
    "\n",
    "The scalar elements in the resulting matrix are calculated as the addition of the elements in\n",
    "each of the matrices being added."
   ]
  },
  {
   "cell_type": "code",
   "execution_count": 5,
   "metadata": {},
   "outputs": [
    {
     "name": "stdout",
     "output_type": "stream",
     "text": [
      "[[1 2 3]\n",
      " [4 5 6]]\n",
      "[[1 2 3]\n",
      " [4 5 6]]\n",
      "[[ 2  4  6]\n",
      " [ 8 10 12]]\n"
     ]
    }
   ],
   "source": [
    "# define first matrix\n",
    "A = np.array([\n",
    "    [1, 2, 3],\n",
    "    [4, 5, 6]\n",
    "])\n",
    "print(A)\n",
    "\n",
    "# define second matrix\n",
    "B = np.array([\n",
    "    [1, 2, 3],\n",
    "    [4, 5, 6]\n",
    "])\n",
    "print(B)\n",
    "\n",
    "# add matrices\n",
    "C = A + B\n",
    "print(C)"
   ]
  },
  {
   "cell_type": "markdown",
   "metadata": {},
   "source": [
    "### Matrix Subtraction\n",
    "\n",
    "Similarly, one matrix can be subtracted from another matrix with the same dimensions.\n",
    "\n",
    "C = A - B\n",
    "\n",
    "The scalar elements in the resulting matrix are calculated as the subtraction of the elements\n",
    "in each of the matrices."
   ]
  },
  {
   "cell_type": "code",
   "execution_count": 6,
   "metadata": {},
   "outputs": [
    {
     "name": "stdout",
     "output_type": "stream",
     "text": [
      "[[1 2 3]\n",
      " [4 5 6]]\n",
      "[[0.5 0.5 0.5]\n",
      " [0.5 0.5 0.5]]\n",
      "[[0.5 1.5 2.5]\n",
      " [3.5 4.5 5.5]]\n"
     ]
    }
   ],
   "source": [
    "# define first matrix\n",
    "A = np.array([\n",
    "    [1, 2, 3],\n",
    "    [4, 5, 6]\n",
    "])\n",
    "print(A)\n",
    "\n",
    "# define second matrix\n",
    "B = np.array([\n",
    "    [0.5, 0.5, 0.5],\n",
    "    [0.5, 0.5, 0.5]\n",
    "])\n",
    "print(B)\n",
    "\n",
    "# subtract matrices\n",
    "C = A - B\n",
    "print(C)"
   ]
  },
  {
   "cell_type": "markdown",
   "metadata": {},
   "source": [
    "### Matrix Multiplication(Hadamard Product)\n",
    "\n",
    "Two matrices with the same size can be multiplied together, and this is often called element-wise\n",
    "matrix multiplication or the Hadamard product. It is not the typical operation meant when\n",
    "referring to matrix multiplication, therefore a di erent operator is often used, such as a circle o.\n",
    "\n",
    "C = A o B\n",
    "\n",
    "As with element-wise subtraction and addition, element-wise multiplication involves the\n",
    "multiplication of elements from each parent matrix to calculate the values in the new matrix."
   ]
  },
  {
   "cell_type": "code",
   "execution_count": 7,
   "metadata": {},
   "outputs": [
    {
     "name": "stdout",
     "output_type": "stream",
     "text": [
      "[[1 2 3]\n",
      " [4 5 6]]\n",
      "[[1 2 3]\n",
      " [4 5 6]]\n",
      "[[ 1  4  9]\n",
      " [16 25 36]]\n"
     ]
    }
   ],
   "source": [
    "# define first matrix\n",
    "A = np.array([\n",
    "    [1, 2, 3],\n",
    "    [4, 5, 6]\n",
    "])\n",
    "print(A)\n",
    "\n",
    "# define second matrix\n",
    "B = np.array([\n",
    "    [1, 2, 3],\n",
    "    [4, 5, 6]\n",
    "])\n",
    "print(B)\n",
    "\n",
    "# multiply matrices\n",
    "C = A * B\n",
    "print(C)"
   ]
  },
  {
   "cell_type": "markdown",
   "metadata": {},
   "source": [
    "### Matrix Division\n",
    "\n",
    "One matrix can be divided by another matrix with the same dimensions.\n",
    "\n",
    "C = A / B\n",
    "\n",
    "The scalar elements in the resulting matrix are calculated as the division of the elements in\n",
    "each of the matrices."
   ]
  },
  {
   "cell_type": "code",
   "execution_count": 8,
   "metadata": {},
   "outputs": [
    {
     "name": "stdout",
     "output_type": "stream",
     "text": [
      "[[1 2 3]\n",
      " [4 5 6]]\n",
      "[[1 2 3]\n",
      " [4 5 6]]\n",
      "[[1. 1. 1.]\n",
      " [1. 1. 1.]]\n"
     ]
    }
   ],
   "source": [
    "# define first matrix\n",
    "A = np.array([\n",
    "    [1, 2, 3],\n",
    "    [4, 5, 6]\n",
    "])\n",
    "print(A)\n",
    "\n",
    "# define second matrix\n",
    "B = np.array([\n",
    "    [1, 2, 3],\n",
    "    [4, 5, 6]\n",
    "])\n",
    "print(B)\n",
    "\n",
    "# divide matrices\n",
    "C = A / B\n",
    "print(C)"
   ]
  },
  {
   "cell_type": "markdown",
   "metadata": {},
   "source": [
    "### Matrix-Matrix Multiplication\n",
    "\n",
    "Matrix multiplication, also called the matrix dot product is more complicated than the previous\n",
    "operations and involves a rule as not all matrices can be multiplied together.\n",
    "\n",
    "C = A.B\n",
    "\n",
    "or\n",
    "\n",
    "C = AB\n",
    "\n",
    "The rule for matrix multiplication is as follows:\n",
    "\n",
    " -- The number of columns (n) in the first matrix (A) must equal the number of rows (m) in\n",
    "the second matrix (B).\n",
    "\n",
    "For example, matrix A has the dimensions m rows and n columns and matrix B has the dimensions n and k.\n",
    "The n columns in A and n rows in B are equal. The result is a new matrix with m rows and k columns.\n",
    "\n",
    "C(m, k) = A(m, n) . B(n, k)\n",
    "\n",
    "This rule applies for a chain of matrix multiplications where the number of columns in one\n",
    "matrix in the chain must match the number of rows in the following matrix in the chain.\n",
    "\n",
    "One of the most important operations involving matrices is multiplication of two\n",
    "matrices. The matrix product of matrices A and B is a third matrix C. In order for\n",
    "this product to be defined, A must have the same number of columns as B has rows.\n",
    "If A is of shape m x n and B is of shape n x p, then C is of shape m x p.\n",
    "\n",
    "The intuition for the matrix multiplication is that we are calculating the dot product between\n",
    "each row in matrix A with each column in matrix B. For example, we can step down rows of\n",
    "column A and multiply each with column 1 in B to give the scalar values in column 1 of C.\n"
   ]
  },
  {
   "cell_type": "code",
   "execution_count": 9,
   "metadata": {},
   "outputs": [
    {
     "name": "stdout",
     "output_type": "stream",
     "text": [
      "[[1 2]\n",
      " [3 4]\n",
      " [5 6]]\n",
      "[[1 2]\n",
      " [3 4]]\n",
      "[[ 7 10]\n",
      " [15 22]\n",
      " [23 34]]\n",
      "[[ 7 10]\n",
      " [15 22]\n",
      " [23 34]]\n"
     ]
    }
   ],
   "source": [
    "#  define first matrix\n",
    "A = np.array([\n",
    "    [1, 2],\n",
    "    [3, 4],\n",
    "    [5, 6]\n",
    "])\n",
    "print(A)\n",
    "\n",
    "#  define second matrix\n",
    "B = np.array([\n",
    "    [1, 2],\n",
    "    [3, 4]\n",
    "])\n",
    "print(B)\n",
    "\n",
    "# multiple matrices\n",
    "C = A.dot(B)\n",
    "print(C)\n",
    "\n",
    "# multiply matrices with @ operator. The '@' operator is newer and can be used as a replacement for .dot()\n",
    "D = A @ B\n",
    "print(D)"
   ]
  },
  {
   "cell_type": "markdown",
   "metadata": {},
   "source": [
    "### Matrix-Vector Multiplication\n",
    "\n",
    "A matrix and a vector can be multiplied together as long as the rule of matrix multiplication\n",
    "is observed. Specifically, that the number of columns in the matrix must equal the number of\n",
    "items in the vector. As with matrix multiplication, the operation can be written using the dot\n",
    "notation. Because the vector only has one column, the result is always a vector.\n",
    "\n",
    "c = A . v\n",
    "\n",
    "or\n",
    "\n",
    "c = Av"
   ]
  },
  {
   "cell_type": "code",
   "execution_count": 11,
   "metadata": {},
   "outputs": [
    {
     "name": "stdout",
     "output_type": "stream",
     "text": [
      "[[1 2]\n",
      " [3 4]\n",
      " [5 6]]\n",
      "[0.5 0.5]\n",
      "[1.5 3.5 5.5]\n"
     ]
    }
   ],
   "source": [
    "# define matrix\n",
    "A = np.array([\n",
    "    [1, 2],\n",
    "    [3, 4],\n",
    "    [5, 6]\n",
    "])\n",
    "print(A)\n",
    "\n",
    "# define vector\n",
    "B = np.array([0.5, 0.5])\n",
    "print(B)\n",
    "\n",
    "# multiply\n",
    "C = A.dot(B)\n",
    "print(C)"
   ]
  },
  {
   "cell_type": "markdown",
   "metadata": {},
   "source": [
    "### Matrix-Scalar Multiplication\n",
    "\n",
    "A matrix can be multiplied by a scalar. This can be represented using the dot notation between\n",
    "the matrix and the scalar.\n",
    "\n",
    "C = A . b\n",
    "\n",
    "or\n",
    "\n",
    "C = Ab\n",
    "\n",
    "The result is a matrix with the same size as the parent matrix where each element of the\n",
    "matrix is multiplied by the scalar value."
   ]
  },
  {
   "cell_type": "code",
   "execution_count": 12,
   "metadata": {},
   "outputs": [
    {
     "name": "stdout",
     "output_type": "stream",
     "text": [
      "[[1 2]\n",
      " [3 4]\n",
      " [5 6]]\n",
      "0.5\n",
      "[[0.5 1. ]\n",
      " [1.5 2. ]\n",
      " [2.5 3. ]]\n"
     ]
    }
   ],
   "source": [
    "# define matrix\n",
    "A = np.array([\n",
    "    [1, 2],\n",
    "    [3, 4],\n",
    "    [5, 6]\n",
    "])\n",
    "print(A)\n",
    "\n",
    "# define scalar\n",
    "b = 0.5\n",
    "print(b)\n",
    "\n",
    "# multiply\n",
    "C = A * b\n",
    "print(C)"
   ]
  },
  {
   "cell_type": "markdown",
   "metadata": {},
   "source": [
    "## Transpose\n",
    "\n",
    "A defined matrix can be transposed, which creates a new matrix with the number of columns\n",
    "and rows flipped. An invisible diagonal line can be drawn through the matrix from top left to bottom right on\n",
    "which the matrix can be flipped to give the transpose.\n",
    "\n",
    "### C = A^T\n",
    "\n",
    "The operation has no effect if the matrix is symmetrical, e.g. has the same number of\n",
    "columns and rows and the same values at the same locations on both sides of the invisible\n",
    "diagonal line."
   ]
  },
  {
   "cell_type": "code",
   "execution_count": 2,
   "metadata": {},
   "outputs": [
    {
     "name": "stdout",
     "output_type": "stream",
     "text": [
      "[[1 2]\n",
      " [3 4]\n",
      " [5 6]]\n",
      "[[1 3 5]\n",
      " [2 4 6]]\n"
     ]
    }
   ],
   "source": [
    "# transpose matrix\n",
    "A = np.array([\n",
    "    [1, 2],\n",
    "    [3, 4],\n",
    "    [5, 6]\n",
    "])\n",
    "print(A)\n",
    "\n",
    "# calculate transpose\n",
    "C = A.T\n",
    "print(C)"
   ]
  },
  {
   "cell_type": "markdown",
   "metadata": {},
   "source": [
    "## Inverse\n",
    "\n",
    "Matrix inversion is a process that  nds another matrix that when multiplied with the matrix,\n",
    "results in an identity matrix. Given a matrix A,  and matrix B, such that AB = I^n or BA = I^n.\n",
    "\n",
    "### AB = BA = I^n"
   ]
  },
  {
   "cell_type": "code",
   "execution_count": 3,
   "metadata": {},
   "outputs": [
    {
     "name": "stdout",
     "output_type": "stream",
     "text": [
      "[[1. 2.]\n",
      " [3. 4.]]\n",
      "[[-2.   1. ]\n",
      " [ 1.5 -0.5]]\n",
      "[[1.00000000e+00 1.11022302e-16]\n",
      " [0.00000000e+00 1.00000000e+00]]\n"
     ]
    }
   ],
   "source": [
    "# invert matrix\n",
    "# define matrix\n",
    "A = np.array([\n",
    "    [1.0, 2.0],\n",
    "    [3.0, 4.0]\n",
    "])\n",
    "print(A)\n",
    "\n",
    "# invert matrix\n",
    "B = np.linalg.inv(A)\n",
    "print(B)\n",
    "\n",
    "# multiply A and B\n",
    "I = A.dot(B)\n",
    "print(I)"
   ]
  },
  {
   "cell_type": "markdown",
   "metadata": {},
   "source": [
    "## Trace\n",
    "\n",
    "A trace of a square matrix is the sum of the values on the main diagonal of the matrix (top-left\n",
    "to bottom-right). The trace operator gives the sum of all of the diagonal entries of a matrix.\n",
    "\n",
    "The operation of calculating a trace on a square matrix is described using the notation tr(A)\n",
    "where A is the square matrix on which the operation is being performed.\n",
    "\n",
    "### tr(A)"
   ]
  },
  {
   "cell_type": "code",
   "execution_count": 4,
   "metadata": {},
   "outputs": [
    {
     "name": "stdout",
     "output_type": "stream",
     "text": [
      "[[1 2 3]\n",
      " [4 5 6]\n",
      " [7 8 9]]\n",
      "15\n"
     ]
    }
   ],
   "source": [
    "# matrix trace\n",
    "# define matrix\n",
    "A = np.array([\n",
    "    [1, 2, 3],\n",
    "    [4, 5, 6],\n",
    "    [7, 8, 9]\n",
    "])\n",
    "print(A)\n",
    "\n",
    "# calculate trace\n",
    "B = np.trace(A)\n",
    "print(B)"
   ]
  },
  {
   "cell_type": "markdown",
   "metadata": {},
   "source": [
    "## Determinant\n",
    "\n",
    "The determinant of a square matrix is a scalar representation of the volume of the matrix.\n",
    "\n",
    "The determinant describes the relative geometry of the vectors that make up the\n",
    "rows of the matrix. More speci cally, the determinant of a matrix A tells you the\n",
    "volume of a box with sides given by rows of A.\n",
    "\n",
    "It is denoted by the det(A) notation or jAj, where A is the matrix on which we are calculating\n",
    "the determinant.\n",
    "\n",
    "### det(A)\n",
    "\n",
    "The determinant of a square matrix is calculated from the elements of the matrix. More\n",
    "technically, the determinant is the product of all the eigenvalues of the matrix. The intuition for the determinant is\n",
    "that it describes the way a matrix will scale another matrix when they are multiplied together.\n",
    "For example, a determinant of 1 preserves the space of the other matrix. A determinant of 0\n",
    "indicates that the matrix cannot be inverted."
   ]
  },
  {
   "cell_type": "code",
   "execution_count": 6,
   "metadata": {},
   "outputs": [
    {
     "name": "stdout",
     "output_type": "stream",
     "text": [
      "[[1 2 3]\n",
      " [4 5 6]\n",
      " [7 8 9]]\n",
      "6.66133814775094e-16\n"
     ]
    }
   ],
   "source": [
    "# matrix determinant\n",
    "# define matrix\n",
    "A = np.array([\n",
    "    [1, 2, 3],\n",
    "    [4, 5, 6],\n",
    "    [7, 8, 9]\n",
    "])\n",
    "print(A)\n",
    "\n",
    "# calculate determinant\n",
    "B = np.linalg.det(A)\n",
    "print(B)"
   ]
  },
  {
   "cell_type": "markdown",
   "metadata": {},
   "source": [
    "## Rank\n",
    "\n",
    "The rank of a matrix is the estimate of the number of linearly independent rows or columns in\n",
    "a matrix. The rank of a matrix M is often denoted as the function rank().\n",
    "\n",
    "### rank(A)\n",
    "\n",
    "An intuition for rank is to consider it the number of dimensions spanned by all of the vectors\n",
    "within a matrix. For example, a rank of 0 suggest all vectors span a point, a rank of 1 suggests\n",
    "all vectors span a line, a rank of 2 suggests all vectors span a two-dimensional plane. The rank\n",
    "is estimated numerically, often using a matrix decomposition method. A common approach is to\n",
    "use the Singular-Value Decomposition or SVD for short."
   ]
  },
  {
   "cell_type": "code",
   "execution_count": 8,
   "metadata": {},
   "outputs": [
    {
     "name": "stdout",
     "output_type": "stream",
     "text": [
      "[[0 0]\n",
      " [0 0]]\n",
      "0\n",
      "[[1 2]\n",
      " [1 2]]\n",
      "1\n",
      "[[1 2]\n",
      " [3 4]]\n",
      "2\n"
     ]
    }
   ],
   "source": [
    "# matrix rank\n",
    "# rank 0\n",
    "M0 = np.array([\n",
    "    [0, 0],\n",
    "    [0, 0]\n",
    "])\n",
    "print(M0)\n",
    "mr0 = np.linalg.matrix_rank(M0)\n",
    "print(mr0)\n",
    "\n",
    "# rank1\n",
    "M1 = np.array([\n",
    "    [1, 2],\n",
    "    [1, 2]\n",
    "])\n",
    "print(M1)\n",
    "mr1 = np.linalg.matrix_rank(M1)\n",
    "print(mr1)\n",
    "\n",
    "# rank2\n",
    "M2 = np.array([\n",
    "    [1, 2],\n",
    "    [3, 4]\n",
    "])\n",
    "print(M2)\n",
    "mr2 = np.linalg.matrix_rank(M2)\n",
    "print(mr2)"
   ]
  },
  {
   "cell_type": "markdown",
   "metadata": {},
   "source": [
    "## Sparse Matrix\n",
    "\n",
    "A sparse matrix is a matrix that is comprised of mostly zero values. Sparse matrices are distinct\n",
    "from matrices with mostly non-zero values, which are referred to as dense matrices.\n",
    "\n",
    "A matrix is sparse if many of its coe cients are zero. The interest in sparsity arises\n",
    "because its exploitation can lead to enormous computational savings and because\n",
    "many large matrix problems that occur in practice are sparse.\n",
    "\n",
    "The sparsity of a matrix can be quantified with a score, which is the number of zero values\n",
    "in the matrix divided by the total number of elements in the matrix.\n",
    "\n",
    "### sparsity = count of zero elements/total elements\n",
    "\n",
    "For example a matrix with 13 zero values out of a total of 18 values in the matrix will have a sparsity score of 0.722 or about 72%\n",
    "\n",
    "### Space complexity \n",
    "Very large matrices require a lot of memory, and some very large matrices that we wish to work\n",
    "with are sparse. In practice, most large matrices are sparse | almost all entries are zeros.\n",
    "\n",
    "An example of a very large matrix that is too large to be stored in memory is a link matrix\n",
    "that shows the links from one website to another. An example of a smaller sparse matrix might\n",
    "be a word or term occurrence matrix for words in one book against all known words in English.\n",
    "In both cases, the matrix contained is sparse with many more zero values than data values. The\n",
    "problem with representing these sparse matrices as dense matrices is that memory is required\n",
    "and must be allocated for each 32-bit or even 64-bit zero value in the matrix. This is clearly a\n",
    "waste of memory resources as those zero values do not contain any information.\n",
    "\n",
    "### Time complexity\n",
    "Assuming a very large sparse matrix can be  t into memory, we will want to perform operations\n",
    "on this matrix. Simply, if the matrix contains mostly zero-values, i.e. no data, then performing\n",
    "operations across this matrix may take a long time where the bulk of the computation performed\n",
    "will involve adding or multiplying zero values together.\n",
    "\n",
    "This is a problem of increased time complexity of matrix operations that increases with the\n",
    "size of the matrix. This problem is compounded when we consider that even trivial machine\n",
    "learning methods may require many operations on each row, column, or even across the entire\n",
    "matrix, resulting in vastly longer execution times.\n"
   ]
  },
  {
   "cell_type": "code",
   "execution_count": 10,
   "metadata": {},
   "outputs": [
    {
     "name": "stdout",
     "output_type": "stream",
     "text": [
      "[[1 0 0 1 0 0]\n",
      " [0 0 2 0 0 1]\n",
      " [0 0 0 2 0 0]]\n",
      "0.7222222222222222\n"
     ]
    }
   ],
   "source": [
    "# calculate sparsity\n",
    "# create dense matrix\n",
    "A = np.array([\n",
    "    [1, 0, 0, 1, 0, 0],\n",
    "    [0, 0, 2, 0, 0, 1],\n",
    "    [0, 0, 0, 2, 0, 0]\n",
    "])\n",
    "print(A)\n",
    "\n",
    "# calculate sparsity\n",
    "sparsity = 1.0 - np.count_nonzero(A)/A.size\n",
    "print(sparsity)"
   ]
  },
  {
   "cell_type": "code",
   "execution_count": 11,
   "metadata": {},
   "outputs": [
    {
     "name": "stdout",
     "output_type": "stream",
     "text": [
      "[[1 0 0 1 0 0]\n",
      " [0 0 2 0 0 1]\n",
      " [0 0 0 2 0 0]]\n",
      "  (0, 0)\t1\n",
      "  (0, 3)\t1\n",
      "  (1, 2)\t2\n",
      "  (1, 5)\t1\n",
      "  (2, 3)\t2\n",
      "[[1 0 0 1 0 0]\n",
      " [0 0 2 0 0 1]\n",
      " [0 0 0 2 0 0]]\n"
     ]
    }
   ],
   "source": [
    "from scipy.sparse import csr_matrix\n",
    "\n",
    "# convert dense matrix in to a sparse matrix\n",
    "# create dense matrix\n",
    "A = np.array([\n",
    "    [1, 0, 0, 1, 0, 0],\n",
    "    [0, 0, 2, 0, 0, 1],\n",
    "    [0, 0, 0, 2, 0, 0]\n",
    "])\n",
    "print(A)\n",
    "\n",
    "# convert to sparse matrix(CSR method)\n",
    "S = csr_matrix(A)\n",
    "print(S)\n",
    "\n",
    "# reconstruct dense matrix\n",
    "B = S.todense()\n",
    "print(B)"
   ]
  }
 ],
 "metadata": {
  "interpreter": {
   "hash": "fe0a7f6fb3f431a420cca34e41bfe94fdedbcf5db439c4717241f57b7189db7b"
  },
  "kernelspec": {
   "display_name": "Python 3.9.11 ('mlsandbox')",
   "language": "python",
   "name": "python3"
  },
  "language_info": {
   "codemirror_mode": {
    "name": "ipython",
    "version": 3
   },
   "file_extension": ".py",
   "mimetype": "text/x-python",
   "name": "python",
   "nbconvert_exporter": "python",
   "pygments_lexer": "ipython3",
   "version": "3.9.11"
  },
  "orig_nbformat": 4
 },
 "nbformat": 4,
 "nbformat_minor": 2
}
